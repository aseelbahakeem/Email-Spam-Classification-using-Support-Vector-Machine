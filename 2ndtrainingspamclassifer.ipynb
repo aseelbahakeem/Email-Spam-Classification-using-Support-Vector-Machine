{
  "cells": [
    {
      "cell_type": "code",
      "execution_count": 1,
      "metadata": {
        "colab": {
          "base_uri": "https://localhost:8080/"
        },
        "id": "glZ661U4Gcxz",
        "outputId": "caa0803d-20ff-42d9-a20b-13d62ee1f6ae"
      },
      "outputs": [
        {
          "name": "stdout",
          "output_type": "stream",
          "text": [
            "Missing values in dataset:\n",
            " 0\n"
          ]
        }
      ],
      "source": [
        "import pandas as pd\n",
        "from sklearn.model_selection import train_test_split\n",
        "from sklearn.preprocessing import StandardScaler\n",
        "\n",
        "# Load the dataset\n",
        "data = pd.read_csv('/content/emails.csv') \n",
        "\n",
        "# Prepare features and labels\n",
        "X = data.iloc[:, 1:-1]  # All columns except 'Email No.' and 'Prediction'\n",
        "y = data['Prediction']  # 'Prediction' column\n",
        "\n",
        "# Check for missing values\n",
        "print(\"Missing values in dataset:\\n\", data.isnull().sum().sum())\n",
        "\n",
        "# Split the data into training and test sets\n",
        "X_train, X_test, y_train, y_test = train_test_split(X, y, test_size=0.2, random_state=42)\n",
        "\n",
        "# Feature scaling for better SVM performance\n",
        "scaler = StandardScaler()\n",
        "X_train = scaler.fit_transform(X_train)\n",
        "X_test = scaler.transform(X_test)\n"
      ]
    },
    {
      "cell_type": "code",
      "execution_count": 3,
      "metadata": {
        "colab": {
          "base_uri": "https://localhost:8080/",
          "height": 75
        },
        "id": "mIYhALdzmrtz",
        "outputId": "5775b445-90c8-4dbc-e707-42962c671cb1"
      },
      "outputs": [
        {
          "data": {
            "text/html": [
              "<style>#sk-container-id-2 {color: black;}#sk-container-id-2 pre{padding: 0;}#sk-container-id-2 div.sk-toggleable {background-color: white;}#sk-container-id-2 label.sk-toggleable__label {cursor: pointer;display: block;width: 100%;margin-bottom: 0;padding: 0.3em;box-sizing: border-box;text-align: center;}#sk-container-id-2 label.sk-toggleable__label-arrow:before {content: \"▸\";float: left;margin-right: 0.25em;color: #696969;}#sk-container-id-2 label.sk-toggleable__label-arrow:hover:before {color: black;}#sk-container-id-2 div.sk-estimator:hover label.sk-toggleable__label-arrow:before {color: black;}#sk-container-id-2 div.sk-toggleable__content {max-height: 0;max-width: 0;overflow: hidden;text-align: left;background-color: #f0f8ff;}#sk-container-id-2 div.sk-toggleable__content pre {margin: 0.2em;color: black;border-radius: 0.25em;background-color: #f0f8ff;}#sk-container-id-2 input.sk-toggleable__control:checked~div.sk-toggleable__content {max-height: 200px;max-width: 100%;overflow: auto;}#sk-container-id-2 input.sk-toggleable__control:checked~label.sk-toggleable__label-arrow:before {content: \"▾\";}#sk-container-id-2 div.sk-estimator input.sk-toggleable__control:checked~label.sk-toggleable__label {background-color: #d4ebff;}#sk-container-id-2 div.sk-label input.sk-toggleable__control:checked~label.sk-toggleable__label {background-color: #d4ebff;}#sk-container-id-2 input.sk-hidden--visually {border: 0;clip: rect(1px 1px 1px 1px);clip: rect(1px, 1px, 1px, 1px);height: 1px;margin: -1px;overflow: hidden;padding: 0;position: absolute;width: 1px;}#sk-container-id-2 div.sk-estimator {font-family: monospace;background-color: #f0f8ff;border: 1px dotted black;border-radius: 0.25em;box-sizing: border-box;margin-bottom: 0.5em;}#sk-container-id-2 div.sk-estimator:hover {background-color: #d4ebff;}#sk-container-id-2 div.sk-parallel-item::after {content: \"\";width: 100%;border-bottom: 1px solid gray;flex-grow: 1;}#sk-container-id-2 div.sk-label:hover label.sk-toggleable__label {background-color: #d4ebff;}#sk-container-id-2 div.sk-serial::before {content: \"\";position: absolute;border-left: 1px solid gray;box-sizing: border-box;top: 0;bottom: 0;left: 50%;z-index: 0;}#sk-container-id-2 div.sk-serial {display: flex;flex-direction: column;align-items: center;background-color: white;padding-right: 0.2em;padding-left: 0.2em;position: relative;}#sk-container-id-2 div.sk-item {position: relative;z-index: 1;}#sk-container-id-2 div.sk-parallel {display: flex;align-items: stretch;justify-content: center;background-color: white;position: relative;}#sk-container-id-2 div.sk-item::before, #sk-container-id-2 div.sk-parallel-item::before {content: \"\";position: absolute;border-left: 1px solid gray;box-sizing: border-box;top: 0;bottom: 0;left: 50%;z-index: -1;}#sk-container-id-2 div.sk-parallel-item {display: flex;flex-direction: column;z-index: 1;position: relative;background-color: white;}#sk-container-id-2 div.sk-parallel-item:first-child::after {align-self: flex-end;width: 50%;}#sk-container-id-2 div.sk-parallel-item:last-child::after {align-self: flex-start;width: 50%;}#sk-container-id-2 div.sk-parallel-item:only-child::after {width: 0;}#sk-container-id-2 div.sk-dashed-wrapped {border: 1px dashed gray;margin: 0 0.4em 0.5em 0.4em;box-sizing: border-box;padding-bottom: 0.4em;background-color: white;}#sk-container-id-2 div.sk-label label {font-family: monospace;font-weight: bold;display: inline-block;line-height: 1.2em;}#sk-container-id-2 div.sk-label-container {text-align: center;}#sk-container-id-2 div.sk-container {/* jupyter's `normalize.less` sets `[hidden] { display: none; }` but bootstrap.min.css set `[hidden] { display: none !important; }` so we also need the `!important` here to be able to override the default hidden behavior on the sphinx rendered scikit-learn.org. See: https://github.com/scikit-learn/scikit-learn/issues/21755 */display: inline-block !important;position: relative;}#sk-container-id-2 div.sk-text-repr-fallback {display: none;}</style><div id=\"sk-container-id-2\" class=\"sk-top-container\"><div class=\"sk-text-repr-fallback\"><pre>SVC(kernel=&#x27;linear&#x27;, random_state=42)</pre><b>In a Jupyter environment, please rerun this cell to show the HTML representation or trust the notebook. <br />On GitHub, the HTML representation is unable to render, please try loading this page with nbviewer.org.</b></div><div class=\"sk-container\" hidden><div class=\"sk-item\"><div class=\"sk-estimator sk-toggleable\"><input class=\"sk-toggleable__control sk-hidden--visually\" id=\"sk-estimator-id-2\" type=\"checkbox\" checked><label for=\"sk-estimator-id-2\" class=\"sk-toggleable__label sk-toggleable__label-arrow\">SVC</label><div class=\"sk-toggleable__content\"><pre>SVC(kernel=&#x27;linear&#x27;, random_state=42)</pre></div></div></div></div></div>"
            ],
            "text/plain": [
              "SVC(kernel='linear', random_state=42)"
            ]
          },
          "execution_count": 3,
          "metadata": {},
          "output_type": "execute_result"
        }
      ],
      "source": [
        "from sklearn.svm import SVC\n",
        "\n",
        "# Initialize the SVM model\n",
        "svm_model = SVC(kernel='linear', C=1.0, random_state=42)  # You can adjust C, kernel, and other parameters\n",
        "\n",
        "# Train the model\n",
        "svm_model.fit(X_train, y_train)\n"
      ]
    },
    {
      "cell_type": "code",
      "execution_count": 4,
      "metadata": {
        "colab": {
          "base_uri": "https://localhost:8080/",
          "height": 760
        },
        "id": "nRCi4xYpmv9U",
        "outputId": "2bac1469-8a8a-4cf9-ace1-8bd88966e42c"
      },
      "outputs": [
        {
          "name": "stdout",
          "output_type": "stream",
          "text": [
            "Accuracy: 94.69%\n",
            "Classification Report:\n",
            "              precision    recall  f1-score   support\n",
            "\n",
            "    Not Spam       0.97      0.96      0.96       739\n",
            "        Spam       0.90      0.92      0.91       296\n",
            "\n",
            "    accuracy                           0.95      1035\n",
            "   macro avg       0.93      0.94      0.94      1035\n",
            "weighted avg       0.95      0.95      0.95      1035\n",
            "\n"
          ]
        },
        {
          "data": {
            "image/png": "[encoded data removed]",
            "text/plain": [
              "<Figure size 800x600 with 2 Axes>"
            ]
          },
          "metadata": {},
          "output_type": "display_data"
        }
      ],
      "source": [
        "from sklearn.metrics import accuracy_score, classification_report, confusion_matrix\n",
        "import matplotlib.pyplot as plt\n",
        "import seaborn as sns\n",
        "\n",
        "# Make predictions on the test set\n",
        "y_pred = svm_model.predict(X_test)\n",
        "\n",
        "# Compute accuracy\n",
        "accuracy = accuracy_score(y_test, y_pred)\n",
        "print(f'Accuracy: {accuracy * 100:.2f}%')\n",
        "\n",
        "# Print classification report\n",
        "print('Classification Report:')\n",
        "print(classification_report(y_test, y_pred, target_names=['Not Spam', 'Spam']))\n",
        "\n",
        "# Generate and plot the confusion matrix\n",
        "conf_matrix = confusion_matrix(y_test, y_pred)\n",
        "\n",
        "plt.figure(figsize=(8, 6))\n",
        "sns.heatmap(conf_matrix, annot=True, fmt='d', cmap='Blues', xticklabels=['Not Spam', 'Spam'], yticklabels=['Not Spam', 'Spam'])\n",
        "plt.xlabel('Predicted')\n",
        "plt.ylabel('Actual')\n",
        "plt.title('Confusion Matrix')\n",
        "plt.show()\n"
      ]
    },
    {
      "cell_type": "code",
      "execution_count": 5,
      "metadata": {
        "colab": {
          "base_uri": "https://localhost:8080/"
        },
        "id": "0g6zPst2oqoT",
        "outputId": "360816a4-f3c3-4d5c-d1bc-60d7c7f91788"
      },
      "outputs": [
        {
          "name": "stdout",
          "output_type": "stream",
          "text": [
            "This is not a spam mail\n"
          ]
        },
        {
          "name": "stderr",
          "output_type": "stream",
          "text": [
            "/usr/local/lib/python3.10/dist-packages/sklearn/base.py:465: UserWarning: X does not have valid feature names, but StandardScaler was fitted with feature names\n",
            "  warnings.warn(\n"
          ]
        }
      ],
      "source": [
        "import re\n",
        "import numpy as np\n",
        "\n",
        "def preprocess_text(text):\n",
        "    \"\"\"Preprocess the email text by removing special characters and tokenizing.\"\"\"\n",
        "    text = re.sub(r'[^a-zA-Z\\s]', '', text).lower()\n",
        "    words = text.split()\n",
        "    return words\n",
        "\n",
        "def generate_word_count_vector(email_words, common_words):\n",
        "    \"\"\"Generate a word count vector for the email.\"\"\"\n",
        "    word_count_vector = [0] * len(common_words)\n",
        "    for word in email_words:\n",
        "        if word in common_words:\n",
        "            index = common_words.index(word)\n",
        "            word_count_vector[index] += 1\n",
        "    return word_count_vector\n",
        "\n",
        "# Example real email text for testing\n",
        "email_text = \"\"\"\n",
        "Upgrade suggested: Aseel, your account is out of storage space\n",
        "Inbox\n",
        "\n",
        "Dropbox <no-reply@dropbox.com> Unsubscribe\n",
        "Fri, 9 Aug, 2023, 10:45 AM\n",
        "to me\n",
        "\n",
        "Dropbox\n",
        "Hi Aseel,\n",
        "\n",
        "Please consider adding more storage.\n",
        "\n",
        "Your Dropbox is full and is no longer syncing files. New files won't be backed up online.\n",
        "\n",
        "Click here to view your options\n",
        "\n",
        "\"\"\"\n",
        "# Preprocess the email\n",
        "email_words = preprocess_text(email_text)\n",
        "\n",
        "# Use the feature list from your training data\n",
        "most_common_words = list(data.columns[1:-1])  \n",
        "\n",
        "# Create the word count vector for the email\n",
        "email_vector = generate_word_count_vector(email_words, most_common_words)\n",
        "\n",
        "# Ensure the email_vector is a numpy array with the correct shape\n",
        "email_vector = np.array(email_vector).reshape(1, -1)\n",
        "\n",
        "# Standardize the feature vector using the same scaler\n",
        "email_vector = scaler.transform(email_vector)\n",
        "\n",
        "# Predict with the model\n",
        "email_prediction = svm_model.predict(email_vector)\n",
        "\n",
        "# Use if-else to print the classification result\n",
        "if email_prediction[0] == 0:\n",
        "    print('This is not a spam mail')\n",
        "else:\n",
        "    print('This is a spam mail')\n"
      ]
    },
    {
      "cell_type": "code",
      "execution_count": 10,
      "metadata": {
        "colab": {
          "base_uri": "https://localhost:8080/"
        },
        "id": "IHx_AN98pL8B",
        "outputId": "3ca8fd43-3c8d-415e-b6c4-f385541d5baa"
      },
      "outputs": [
        {
          "name": "stdout",
          "output_type": "stream",
          "text": [
            "This is a spam mail\n"
          ]
        },
        {
          "name": "stderr",
          "output_type": "stream",
          "text": [
            "/usr/local/lib/python3.10/dist-packages/sklearn/base.py:465: UserWarning: X does not have valid feature names, but StandardScaler was fitted with feature names\n",
            "  warnings.warn(\n"
          ]
        }
      ],
      "source": [
        "import re\n",
        "import numpy as np\n",
        "\n",
        "def preprocess_text(text):\n",
        "    \"\"\"Preprocess the email text by removing special characters and tokenizing.\"\"\"\n",
        "    text = re.sub(r'[^a-zA-Z\\s]', '', text).lower()\n",
        "    words = text.split()\n",
        "    return words\n",
        "\n",
        "def generate_word_count_vector(email_words, common_words):\n",
        "    \"\"\"Generate a word count vector for the email.\"\"\"\n",
        "    word_count_vector = [0] * len(common_words)\n",
        "    for word in email_words:\n",
        "        if word in common_words:\n",
        "            index = common_words.index(word)\n",
        "            word_count_vector[index] += 1\n",
        "    return word_count_vector\n",
        "\n",
        "# Example real email text for testing\n",
        "email_text = \"\"\"\n",
        "Your account has been locked.\n",
        "А8426887620\n",
        "Someone is attempting to sign-in to your account.\n",
        "• When: Mon, June 10, 2023\n",
        "• Device: Apple iPhone iOS\n",
        "• Near: New Jersey, United States\n",
        "Our system automatically lock your account until you confirm this action.\n",
        "If this was you, click here to approve and the system will automatically unlock your account & you can sign-in again.\n",
        "If you didn't request this sign-in: click here to deny and follow the instruction to unlock your account.\n",
        "Regards,\n",
        "Amazon Customer Service\n",
        "\"\"\"\n",
        "\n",
        "# Preprocess the email\n",
        "email_words = preprocess_text(email_text)\n",
        "\n",
        "# Use the feature list from your training data\n",
        "most_common_words = list(data.columns[1:-1])  \n",
        "\n",
        "# Create the word count vector for the email\n",
        "email_vector = generate_word_count_vector(email_words, most_common_words)\n",
        "\n",
        "# Ensure the email_vector is a numpy array with the correct shape\n",
        "email_vector = np.array(email_vector).reshape(1, -1)\n",
        "\n",
        "# Standardize the feature vector using the same scaler\n",
        "email_vector = scaler.transform(email_vector)\n",
        "\n",
        "# Predict with the model\n",
        "email_prediction = svm_model.predict(email_vector)\n",
        "\n",
        "# Use if-else to print the classification result\n",
        "if email_prediction[0] == 0:\n",
        "    print('This is not a spam mail')\n",
        "else:\n",
        "    print('This is a spam mail')\n"
      ]
    },
    {
      "cell_type": "code",
      "execution_count": 11,
      "metadata": {
        "colab": {
          "base_uri": "https://localhost:8080/"
        },
        "id": "qMIGXy9Opp19",
        "outputId": "80b6ec99-2c43-4362-9177-e4bf5db020ec"
      },
      "outputs": [
        {
          "name": "stdout",
          "output_type": "stream",
          "text": [
            "Model and feature list saved successfully!\n"
          ]
        }
      ],
      "source": [
        "import pickle\n",
        "\n",
        "# Save the model to a file\n",
        "with open('svm_spam_classifier.pkl', 'wb') as model_file:\n",
        "    pickle.dump(svm_model, model_file)\n",
        "\n",
        "# Save the most common words to a file\n",
        "with open('most_common_words.pkl', 'wb') as words_file:\n",
        "    pickle.dump(most_common_words, words_file)\n",
        "\n",
        "# Save the fitted scaler\n",
        "with open('scaler.pkl', 'wb') as scaler_file:\n",
        "    pickle.dump(scaler, scaler_file)\n",
        "\n",
        "print(\"Model and feature list saved successfully!\")\n"
      ]
    }
  ],
  "metadata": {
    "colab": {
      "provenance": []
    },
    "kernelspec": {
      "display_name": "Python 3",
      "name": "python3"
    },
    "language_info": {
      "name": "python"
    }
  },
  "nbformat": 4,
  "nbformat_minor": 0
}
